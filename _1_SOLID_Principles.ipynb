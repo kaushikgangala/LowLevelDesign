{
 "cells": [
  {
   "cell_type": "markdown",
   "metadata": {},
   "source": [
    "# SOLID Principles"
   ]
  },
  {
   "cell_type": "markdown",
   "metadata": {},
   "source": [
    "## 1. Single Responsibility Principle\n",
    "\n",
    "### Every base class or interface should be written in such a way that it should be modified later only for one responsibility."
   ]
  },
  {
   "cell_type": "markdown",
   "metadata": {},
   "source": [
    "## 2. Open - Closed Principle\n",
    "\n",
    "### Every class should be open to be extended but closed to be modified. In simple terms, a class should be only extended for the addition of features and should not be modified in-place."
   ]
  },
  {
   "cell_type": "markdown",
   "metadata": {},
   "source": [
    "## 3. Liskov Substitution Principle\n",
    "\n",
    "### An object of the base class should always be able to be replaced by an object of a subclass i.e, the subclasses should always extend the capabilities of the base class and not narrow it down."
   ]
  },
  {
   "cell_type": "markdown",
   "metadata": {},
   "source": [
    "## 4. Interface Segmented Principle\n",
    "\n",
    "### Interfaces should be written in such a way that the inheriting classes should not have to implement unnecessary methods i.e, interfaces should be as modular as possible."
   ]
  },
  {
   "cell_type": "markdown",
   "metadata": {},
   "source": [
    "## 5. Dependency Inversion Principle\n",
    "\n",
    "### Classes should be dependent on the interfaces not on concrete classes."
   ]
  }
 ],
 "metadata": {
  "language_info": {
   "name": "python"
  }
 },
 "nbformat": 4,
 "nbformat_minor": 2
}
